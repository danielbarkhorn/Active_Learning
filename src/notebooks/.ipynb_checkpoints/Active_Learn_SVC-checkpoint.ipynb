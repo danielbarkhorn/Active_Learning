{
 "cells": [
  {
   "cell_type": "code",
   "execution_count": 1,
   "metadata": {},
   "outputs": [
    {
     "name": "stdout",
     "output_type": "stream",
     "text": [
      "Populating the interactive namespace from numpy and matplotlib\n"
     ]
    }
   ],
   "source": [
    "%pylab inline\n",
    "import matplotlib.pyplot as plt\n",
    "import pandas as pd\n",
    "from sklearn.model_selection import train_test_split\n",
    "from sklearn.svm import SVC\n",
    "import os\n",
    "import sys"
   ]
  },
  {
   "cell_type": "code",
   "execution_count": 2,
   "metadata": {
    "collapsed": true
   },
   "outputs": [],
   "source": [
    "src_path = os.getcwd().split('/')\n",
    "src_path = '/'.join(src_path[:src_path.index('src')+1])\n",
    "sys.path.append(src_path)\n",
    "from data.dataset import Dataset"
   ]
  },
  {
   "cell_type": "code",
   "execution_count": 3,
   "metadata": {
    "collapsed": true
   },
   "outputs": [],
   "source": [
    "ds = Dataset('SUSY_100k.csv')"
   ]
  },
  {
   "cell_type": "code",
   "execution_count": 4,
   "metadata": {
    "collapsed": true
   },
   "outputs": [],
   "source": [
    "X = ds.get_x()[0:100]\n",
    "y = ds.get_y()[0:100]"
   ]
  },
  {
   "cell_type": "code",
   "execution_count": 5,
   "metadata": {},
   "outputs": [
    {
     "data": {
      "text/plain": [
       "\"<class 'sklearn.svm.classes.SVC'>\""
      ]
     },
     "execution_count": 5,
     "metadata": {},
     "output_type": "execute_result"
    }
   ],
   "source": [
    "m = SVC()\n",
    "str(type(m))"
   ]
  },
  {
   "cell_type": "code",
   "execution_count": 8,
   "metadata": {
    "collapsed": true
   },
   "outputs": [],
   "source": [
    "class Active_Learner:\n",
    "    def __init__(self, model, start_size=0.1,end_size=0.25,step_size=0.01):\n",
    "        if type(model) == type(SVC()):\n",
    "            self.m = SVC(probability=True)\n",
    "        else:\n",
    "            self.m = model\n",
    "        self.start_size = start_size\n",
    "        self.end_size = end_size\n",
    "        self.step_size = step_size\n",
    "        \n",
    "    def fit(self, X, y):\n",
    "        X_train, X_unlabeled, y_train, y_unlabeled = train_test_split(X, y, train_size=0.10, random_state=42)\n",
    "        \n",
    "        while(len(y_train) <= len(y)*self.end_size):\n",
    "            self.m.fit(X_train,y_train)\n",
    "            y_unlabeled_hat = self.m.predict_proba(X_unlabeled)\n",
    "            \n",
    "            #select points with low confidence (class probabilty close to 0.5)\n",
    "            lowest_conf_idx = np.flip(np.argsort(abs(0.5-y_unlabeled_hat[:,0])),axis=0)\n",
    "            print(abs(0.5-y_unlabeled_hat[:,0]))\n",
    "            plt.hist(abs(0.5-y_unlabeled_hat[:,0]), bins=10)\n",
    "            plt.show()\n",
    "            break\n",
    "            \n",
    "            #add points of least confidence to training set\n",
    "            X_train = np.concatenate((X_train,X_unlabeled[:int(len(y)*self.step_size)]),axis=0)\n",
    "            y_train = np.concatenate((y_train,y_unlabeled[:int(len(y)*self.step_size)]),axis=0)\n",
    "            \n",
    "            #remove these points from \"unlabeled\" set\n",
    "            mask = np.ones(len(y_unlabeled), dtype=bool)\n",
    "            mask[lowest_conf_idx[0:int(len(y)*self.step_size)]] = False\n",
    "            y_unlabeled = y_unlabeled[mask]\n",
    "            X_unlabeled = X_unlabeled[mask]\n",
    "            \n",
    "    def predict(self,X):\n",
    "        return self.m.predict(X)"
   ]
  },
  {
   "cell_type": "code",
   "execution_count": 9,
   "metadata": {},
   "outputs": [
    {
     "name": "stdout",
     "output_type": "stream",
     "text": [
      "[ 0.27918617  0.36994494  0.28515995  0.06120908  0.22690646  0.48157045\n",
      "  0.44801446  0.43036331  0.22218732  0.42980803  0.22131141  0.33812899\n",
      "  0.02282271  0.35502341  0.29952977  0.24939371  0.08092182  0.13946371\n",
      "  0.41640892  0.31434018  0.10052224  0.1642229   0.04901166  0.12953675\n",
      "  0.16141107  0.42018881  0.09972315  0.05550165  0.3626882   0.08273025\n",
      "  0.33124682  0.393104    0.14520147  0.13295274  0.18735599  0.17896509\n",
      "  0.27886943  0.23792894  0.38754615  0.39855113  0.17618146  0.33600491\n",
      "  0.38278475  0.03776472  0.23001248  0.09723747  0.13033071  0.1287107\n",
      "  0.17997912  0.23998162  0.15898025  0.42190227  0.07360595  0.22044653\n",
      "  0.39279002  0.09326264  0.3219047   0.2058768   0.17073625  0.13750752\n",
      "  0.25123942  0.15441555  0.38824847  0.24430584  0.43787012  0.10808457\n",
      "  0.18732585  0.18850144  0.0220649   0.22222471  0.30845128  0.15414595\n",
      "  0.41151607  0.01459379  0.30719466  0.15997463  0.06388977  0.24046504\n",
      "  0.07977871  0.16434807  0.30315998  0.12875693  0.1299745   0.09727679\n",
      "  0.18439366  0.41070047  0.27970123  0.33155421  0.12760496  0.29128606]\n"
     ]
    }
   ],
   "source": [
    "sv = SVC()\n",
    "al = Active_Learner(sv)\n",
    "al.fit(X,y)"
   ]
  },
  {
   "cell_type": "code",
   "execution_count": 23,
   "metadata": {},
   "outputs": [
    {
     "name": "stdout",
     "output_type": "stream",
     "text": [
      "             precision    recall  f1-score   support\n",
      "\n",
      "        0.0       0.67      0.89      0.77        57\n",
      "        1.0       0.75      0.42      0.54        43\n",
      "\n",
      "avg / total       0.70      0.69      0.67       100\n",
      "\n"
     ]
    }
   ],
   "source": [
    "from sklearn.metrics import classification_report\n",
    "\n",
    "print (classification_report(y,al.predict(X)))"
   ]
  }
 ],
 "metadata": {
  "kernelspec": {
   "display_name": "Python 2",
   "language": "python",
   "name": "python2"
  },
  "language_info": {
   "codemirror_mode": {
    "name": "ipython",
    "version": 2
   },
   "file_extension": ".py",
   "mimetype": "text/x-python",
   "name": "python",
   "nbconvert_exporter": "python",
   "pygments_lexer": "ipython2",
   "version": "2.7.13"
  },
  "toc": {
   "nav_menu": {},
   "number_sections": true,
   "sideBar": true,
   "skip_h1_title": false,
   "title_cell": "Table of Contents",
   "title_sidebar": "Contents",
   "toc_cell": false,
   "toc_position": {},
   "toc_section_display": true,
   "toc_window_display": false
  }
 },
 "nbformat": 4,
 "nbformat_minor": 2
}
