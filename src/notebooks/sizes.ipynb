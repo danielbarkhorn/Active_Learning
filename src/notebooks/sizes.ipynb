{
 "cells": [
  {
   "cell_type": "code",
   "execution_count": 1,
   "metadata": {
    "collapsed": true
   },
   "outputs": [],
   "source": [
    "import os\n",
    "import sys\n",
    "src_path = os.getcwd().split('/')\n",
    "src_path = '/'.join(src_path[:src_path.index('src')+1])\n",
    "sys.path.append(src_path)"
   ]
  },
  {
   "cell_type": "code",
   "execution_count": 16,
   "metadata": {},
   "outputs": [
    {
     "name": "stdout",
     "output_type": "stream",
     "text": [
      "Populating the interactive namespace from numpy and matplotlib\n"
     ]
    },
    {
     "name": "stderr",
     "output_type": "stream",
     "text": [
      "/Users/robbieculkin/anaconda/envs/py36/lib/python3.6/site-packages/IPython/core/magics/pylab.py:160: UserWarning: pylab import has clobbered these variables: ['step', 'axes']\n",
      "`%matplotlib` prevents importing * from pylab and numpy\n",
      "  \"\\n`%matplotlib` prevents importing * from pylab and numpy\"\n"
     ]
    }
   ],
   "source": [
    "%pylab inline\n",
    "import pickle\n",
    "import pandas as pd"
   ]
  },
  {
   "cell_type": "code",
   "execution_count": 3,
   "metadata": {
    "collapsed": true
   },
   "outputs": [],
   "source": [
    "active_svm = pickle.load(open('../tests/activeSVMF1s.p','rb'))\n",
    "rand_svm = pickle.load(open('../tests/randSVMF1s.p','rb'))"
   ]
  },
  {
   "cell_type": "code",
   "execution_count": 55,
   "metadata": {
    "scrolled": true
   },
   "outputs": [],
   "source": [
    "active_svm = {}\n",
    "rand_svm = {}\n",
    "\n",
    "for sampleSize in range(50, 161, 10):\n",
    "\n",
    "    aSVMfname = \"../tests/../tests/svm_results/activeSVMF1_\"+str(sampleSize)+\".p\"\n",
    "    rSVMfname = \"../tests/svm_results/randSVMF1_\"+str(sampleSize)+\".p\"\n",
    "\n",
    "    aRFfname = \"../tests/rf_results/activeRFF1_\"+str(sampleSize)+\".p\"\n",
    "    rRFfname = \"../tests/rf_results/randRFF1_\"+str(sampleSize)+\".p\"\n",
    "\n",
    "    active_svm_step = {}\n",
    "    resultsSVMActive = pickle.load(open( aSVMfname, \"rb\" ))\n",
    "    \n",
    "    for step in resultsSVMActive:\n",
    "        active_svm_step[step] = [np.min(resultsSVMActive[step]), np.mean(resultsSVMActive[step]), np.max(resultsSVMActive[step])]\n",
    "    active_svm[sampleSize] = active_svm_step\n",
    "    \n",
    "    resultsSVMRandom = pickle.load(open( rSVMfname, \"rb\" ))\n",
    "    rand_svm[sampleSize] = [np.min(resultsSVMRandom), np.mean(resultsSVMRandom), np.max(resultsSVMRandom)]\n",
    "    "
   ]
  },
  {
   "cell_type": "code",
   "execution_count": 56,
   "metadata": {
    "scrolled": true
   },
   "outputs": [
    {
     "data": {
      "text/html": [
       "<div>\n",
       "<style scoped>\n",
       "    .dataframe tbody tr th:only-of-type {\n",
       "        vertical-align: middle;\n",
       "    }\n",
       "\n",
       "    .dataframe tbody tr th {\n",
       "        vertical-align: top;\n",
       "    }\n",
       "\n",
       "    .dataframe thead th {\n",
       "        text-align: right;\n",
       "    }\n",
       "</style>\n",
       "<table border=\"1\" class=\"dataframe\">\n",
       "  <thead>\n",
       "    <tr style=\"text-align: right;\">\n",
       "      <th></th>\n",
       "      <th>50</th>\n",
       "      <th>60</th>\n",
       "      <th>70</th>\n",
       "      <th>80</th>\n",
       "      <th>90</th>\n",
       "      <th>100</th>\n",
       "      <th>110</th>\n",
       "      <th>120</th>\n",
       "      <th>130</th>\n",
       "      <th>140</th>\n",
       "      <th>150</th>\n",
       "      <th>160</th>\n",
       "    </tr>\n",
       "  </thead>\n",
       "  <tbody>\n",
       "    <tr>\n",
       "      <th>5</th>\n",
       "      <td>[0.5537612112598747, 0.6404504117380289, 0.735...</td>\n",
       "      <td>[0.5706688689546611, 0.6807508442247574, 0.757...</td>\n",
       "      <td>[0.6271100893595555, 0.7093208145102962, 0.778...</td>\n",
       "      <td>[0.6453095432640191, 0.7299194965803218, 0.781...</td>\n",
       "      <td>[0.6811738110012208, 0.7498208271233107, 0.799...</td>\n",
       "      <td>[0.6887259636996172, 0.7604075561977175, 0.797...</td>\n",
       "      <td>[0.6933990773976473, 0.7741748189995065, 0.814...</td>\n",
       "      <td>[0.73282828766603, 0.7829595373136922, 0.81624...</td>\n",
       "      <td>[0.7339254967348461, 0.7859781935515671, 0.831...</td>\n",
       "      <td>[0.7446421801237455, 0.7951285589084213, 0.826...</td>\n",
       "      <td>[0.7560275855819206, 0.7978788134794648, 0.835...</td>\n",
       "      <td>[0.7699482901021734, 0.8050675060228627, 0.840...</td>\n",
       "    </tr>\n",
       "    <tr>\n",
       "      <th>10</th>\n",
       "      <td>[0.5829195356094609, 0.6591338343590649, 0.732...</td>\n",
       "      <td>[0.5835732127653689, 0.6793519941813355, 0.745...</td>\n",
       "      <td>[0.6215305455769125, 0.7164198762252689, 0.780...</td>\n",
       "      <td>[0.6668778213607597, 0.7260470142279739, 0.774...</td>\n",
       "      <td>[0.6767540856715814, 0.7502262049828564, 0.787...</td>\n",
       "      <td>[0.683610670630967, 0.7589644833649539, 0.8036...</td>\n",
       "      <td>[0.6988675162698416, 0.7725490435315074, 0.821...</td>\n",
       "      <td>[0.7080604072488952, 0.7779965617974702, 0.820...</td>\n",
       "      <td>[0.724861918239645, 0.7905443882289327, 0.8250...</td>\n",
       "      <td>[0.7575776135094683, 0.7933464284561252, 0.832...</td>\n",
       "      <td>[0.7588757715557841, 0.8026589776515552, 0.840...</td>\n",
       "      <td>[0.7571797709380597, 0.802749165617194, 0.8399...</td>\n",
       "    </tr>\n",
       "    <tr>\n",
       "      <th>15</th>\n",
       "      <td>[0.5293900973009952, 0.6543453301811524, 0.731...</td>\n",
       "      <td>[0.5236974579478897, 0.6706772943078918, 0.744...</td>\n",
       "      <td>[0.6270642759110168, 0.7274447077540104, 0.779...</td>\n",
       "      <td>[0.6733159098218392, 0.7363444689721387, 0.775...</td>\n",
       "      <td>[0.677419447391154, 0.7436533519323181, 0.7908...</td>\n",
       "      <td>[0.7068415277118569, 0.7688835996403021, 0.812...</td>\n",
       "      <td>[0.7142465211209362, 0.7752349986676002, 0.817...</td>\n",
       "      <td>[0.7096871528421488, 0.7764587514711032, 0.813...</td>\n",
       "      <td>[0.7549533090209941, 0.7936321377284249, 0.828...</td>\n",
       "      <td>[0.743681364813311, 0.796802415020547, 0.83006...</td>\n",
       "      <td>[0.7529958799120114, 0.7993203600579373, 0.827...</td>\n",
       "      <td>[0.7649607791236823, 0.8093791452366351, 0.848...</td>\n",
       "    </tr>\n",
       "  </tbody>\n",
       "</table>\n",
       "</div>"
      ],
      "text/plain": [
       "                                                  50   \\\n",
       "5   [0.5537612112598747, 0.6404504117380289, 0.735...   \n",
       "10  [0.5829195356094609, 0.6591338343590649, 0.732...   \n",
       "15  [0.5293900973009952, 0.6543453301811524, 0.731...   \n",
       "\n",
       "                                                  60   \\\n",
       "5   [0.5706688689546611, 0.6807508442247574, 0.757...   \n",
       "10  [0.5835732127653689, 0.6793519941813355, 0.745...   \n",
       "15  [0.5236974579478897, 0.6706772943078918, 0.744...   \n",
       "\n",
       "                                                  70   \\\n",
       "5   [0.6271100893595555, 0.7093208145102962, 0.778...   \n",
       "10  [0.6215305455769125, 0.7164198762252689, 0.780...   \n",
       "15  [0.6270642759110168, 0.7274447077540104, 0.779...   \n",
       "\n",
       "                                                  80   \\\n",
       "5   [0.6453095432640191, 0.7299194965803218, 0.781...   \n",
       "10  [0.6668778213607597, 0.7260470142279739, 0.774...   \n",
       "15  [0.6733159098218392, 0.7363444689721387, 0.775...   \n",
       "\n",
       "                                                  90   \\\n",
       "5   [0.6811738110012208, 0.7498208271233107, 0.799...   \n",
       "10  [0.6767540856715814, 0.7502262049828564, 0.787...   \n",
       "15  [0.677419447391154, 0.7436533519323181, 0.7908...   \n",
       "\n",
       "                                                  100  \\\n",
       "5   [0.6887259636996172, 0.7604075561977175, 0.797...   \n",
       "10  [0.683610670630967, 0.7589644833649539, 0.8036...   \n",
       "15  [0.7068415277118569, 0.7688835996403021, 0.812...   \n",
       "\n",
       "                                                  110  \\\n",
       "5   [0.6933990773976473, 0.7741748189995065, 0.814...   \n",
       "10  [0.6988675162698416, 0.7725490435315074, 0.821...   \n",
       "15  [0.7142465211209362, 0.7752349986676002, 0.817...   \n",
       "\n",
       "                                                  120  \\\n",
       "5   [0.73282828766603, 0.7829595373136922, 0.81624...   \n",
       "10  [0.7080604072488952, 0.7779965617974702, 0.820...   \n",
       "15  [0.7096871528421488, 0.7764587514711032, 0.813...   \n",
       "\n",
       "                                                  130  \\\n",
       "5   [0.7339254967348461, 0.7859781935515671, 0.831...   \n",
       "10  [0.724861918239645, 0.7905443882289327, 0.8250...   \n",
       "15  [0.7549533090209941, 0.7936321377284249, 0.828...   \n",
       "\n",
       "                                                  140  \\\n",
       "5   [0.7446421801237455, 0.7951285589084213, 0.826...   \n",
       "10  [0.7575776135094683, 0.7933464284561252, 0.832...   \n",
       "15  [0.743681364813311, 0.796802415020547, 0.83006...   \n",
       "\n",
       "                                                  150  \\\n",
       "5   [0.7560275855819206, 0.7978788134794648, 0.835...   \n",
       "10  [0.7588757715557841, 0.8026589776515552, 0.840...   \n",
       "15  [0.7529958799120114, 0.7993203600579373, 0.827...   \n",
       "\n",
       "                                                  160  \n",
       "5   [0.7699482901021734, 0.8050675060228627, 0.840...  \n",
       "10  [0.7571797709380597, 0.802749165617194, 0.8399...  \n",
       "15  [0.7649607791236823, 0.8093791452366351, 0.848...  "
      ]
     },
     "execution_count": 56,
     "metadata": {},
     "output_type": "execute_result"
    }
   ],
   "source": [
    "pd.DataFrame(active_svm)"
   ]
  },
  {
   "cell_type": "code",
   "execution_count": 61,
   "metadata": {},
   "outputs": [],
   "source": [
    "a15 = array([active_svm[size][15] for size in active_svm])"
   ]
  },
  {
   "cell_type": "code",
   "execution_count": 62,
   "metadata": {},
   "outputs": [
    {
     "data": {
      "text/plain": [
       "array([[0.53238544, 0.62614779, 0.7326492 ],\n",
       "       [0.55604651, 0.65554917, 0.72057012],\n",
       "       [0.59598252, 0.68342962, 0.75108217],\n",
       "       [0.59552436, 0.70347481, 0.76614522],\n",
       "       [0.55292723, 0.72163547, 0.77286682],\n",
       "       [0.66605475, 0.73809908, 0.78101004],\n",
       "       [0.68480384, 0.74785633, 0.79134494],\n",
       "       [0.6852787 , 0.75441051, 0.79512496],\n",
       "       [0.69525613, 0.76283713, 0.80561168],\n",
       "       [0.72630058, 0.77260944, 0.81162283],\n",
       "       [0.71871515, 0.77863062, 0.80994331],\n",
       "       [0.72988384, 0.78294303, 0.82697649]])"
      ]
     },
     "execution_count": 62,
     "metadata": {},
     "output_type": "execute_result"
    }
   ],
   "source": [
    "r = array([rand_svm[size] for size in rand_svm])\n",
    "r"
   ]
  },
  {
   "cell_type": "code",
   "execution_count": 79,
   "metadata": {},
   "outputs": [
    {
     "data": {
      "image/png": "[encoded data removed]",
      "text/plain": [
       "<matplotlib.figure.Figure at 0x11392a0f0>"
      ]
     },
     "metadata": {},
     "output_type": "display_data"
    }
   ],
   "source": [
    "plot(active_svm.keys(), a15[:,1])\n",
    "plot(rand_svm.keys(), r[:,1])\n",
    "show()"
   ]
  },
  {
   "cell_type": "code",
   "execution_count": 76,
   "metadata": {},
   "outputs": [
    {
     "data": {
      "image/png": "[encoded data removed]",
      "text/plain": [
       "<matplotlib.figure.Figure at 0x117723a90>"
      ]
     },
     "metadata": {},
     "output_type": "display_data"
    }
   ],
   "source": [
    "# shows step size doesn't matter (in range [5,15])\n",
    "for step in active_svm[50].keys():\n",
    "    plot(active_svm.keys(),array([active_svm[size][step] for size in active_svm])[:,1])"
   ]
  },
  {
   "cell_type": "code",
   "execution_count": null,
   "metadata": {
    "collapsed": true
   },
   "outputs": [],
   "source": []
  }
 ],
 "metadata": {
  "kernelspec": {
   "display_name": "Python [conda env:py36]",
   "language": "python",
   "name": "conda-env-py36-py"
  },
  "language_info": {
   "codemirror_mode": {
    "name": "ipython",
    "version": 3
   },
   "file_extension": ".py",
   "mimetype": "text/x-python",
   "name": "python",
   "nbconvert_exporter": "python",
   "pygments_lexer": "ipython3",
   "version": "3.6.4"
  },
  "toc": {
   "nav_menu": {},
   "number_sections": true,
   "sideBar": true,
   "skip_h1_title": false,
   "title_cell": "Table of Contents",
   "title_sidebar": "Contents",
   "toc_cell": false,
   "toc_position": {},
   "toc_section_display": true,
   "toc_window_display": false
  }
 },
 "nbformat": 4,
 "nbformat_minor": 2
}
