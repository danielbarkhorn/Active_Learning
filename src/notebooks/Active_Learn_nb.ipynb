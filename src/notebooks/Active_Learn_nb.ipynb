{
 "cells": [
  {
   "cell_type": "code",
   "execution_count": 1,
   "metadata": {},
   "outputs": [
    {
     "name": "stdout",
     "output_type": "stream",
     "text": [
      "Populating the interactive namespace from numpy and matplotlib\n"
     ]
    }
   ],
   "source": [
    "%pylab inline\n",
    "import pandas as pd\n",
    "from sklearn.model_selection import train_test_split\n",
    "from sklearn.svm import SVC\n",
    "import os\n",
    "import sys"
   ]
  },
  {
   "cell_type": "code",
   "execution_count": 2,
   "metadata": {
    "collapsed": true
   },
   "outputs": [],
   "source": [
    "src_path = os.getcwd().split('/')\n",
    "src_path = '/'.join(src_path[:src_path.index('src')+1])\n",
    "sys.path.append(src_path)\n",
    "from data.dataset import Dataset"
   ]
  },
  {
   "cell_type": "code",
   "execution_count": 3,
   "metadata": {},
   "outputs": [],
   "source": [
    "ds = Dataset('SUSY_100k.csv')"
   ]
  },
  {
   "cell_type": "code",
   "execution_count": 4,
   "metadata": {
    "collapsed": true
   },
   "outputs": [],
   "source": [
    "X = ds.get_x()[0:100]\n",
    "y = ds.get_y()[0:100]"
   ]
  },
  {
   "cell_type": "code",
   "execution_count": 5,
   "metadata": {},
   "outputs": [
    {
     "data": {
      "text/plain": [
       "\"<class 'sklearn.svm.classes.SVC'>\""
      ]
     },
     "execution_count": 5,
     "metadata": {},
     "output_type": "execute_result"
    }
   ],
   "source": [
    "m = SVC()\n",
    "str(type(m))"
   ]
  },
  {
   "cell_type": "code",
   "execution_count": 6,
   "metadata": {
    "collapsed": true
   },
   "outputs": [],
   "source": [
    "class Active_Learner:\n",
    "    def __init__(self, model, start_size=0.1,end_size=0.25,step_size=0.01):\n",
    "        if type(model) == type(SVC()):\n",
    "            self.m = SVC(probability=True)\n",
    "        else:\n",
    "            self.m = model\n",
    "        self.start_size = start_size\n",
    "        self.end_size = end_size\n",
    "        self.step_size = step_size\n",
    "        \n",
    "    def fit(self, X, y):\n",
    "        X_train, X_unlabeled, y_train, y_unlabeled = train_test_split(X, y, train_size=0.10, random_state=42)\n",
    "        \n",
    "        while(len(y_train) <= len(y)*self.end_size):\n",
    "            self.m.fit(X_train,y_train)\n",
    "            y_unlabeled_hat = self.m.predict_proba(X_unlabeled)\n",
    "            \n",
    "            #select points with low confidence (class probabilty close to 0.5)\n",
    "            lowest_conf_idx = np.flip(np.argsort(abs(0.5-y_unlabeled_hat[:,0])),axis=0)\n",
    "            \n",
    "            #add points of least confidence to training set\n",
    "            X_train = np.concatenate((X_train,X_unlabeled[:int(len(y)*self.step_size)]),axis=0)\n",
    "            y_train = np.concatenate((y_train,y_unlabeled[:int(len(y)*self.step_size)]),axis=0)\n",
    "            \n",
    "            #remove these points from \"unlabeled\" set\n",
    "            mask = np.ones(len(y_unlabeled), dtype=bool)\n",
    "            mask[lowest_conf_idx[0:int(len(y)*self.step_size)]] = False\n",
    "            y_unlabeled = y_unlabeled[mask]\n",
    "            X_unlabeled = X_unlabeled[mask]\n",
    "            \n",
    "    def predict(self,X):\n",
    "        return self.m.predict(X)"
   ]
  },
  {
   "cell_type": "code",
   "execution_count": 7,
   "metadata": {},
   "outputs": [
    {
     "name": "stderr",
     "output_type": "stream",
     "text": [
      "/Users/robbieculkin/anaconda/envs/py36/lib/python3.6/site-packages/sklearn/model_selection/_split.py:2026: FutureWarning: From version 0.21, test_size will always complement train_size unless both are specified.\n",
      "  FutureWarning)\n"
     ]
    }
   ],
   "source": [
    "sv = SVC()\n",
    "al = Active_Learner(sv)\n",
    "al.fit(X,y)"
   ]
  },
  {
   "cell_type": "code",
   "execution_count": 9,
   "metadata": {},
   "outputs": [
    {
     "name": "stderr",
     "output_type": "stream",
     "text": [
      "/Users/robbieculkin/anaconda/envs/py36/lib/python3.6/site-packages/sklearn/model_selection/_split.py:2026: FutureWarning: From version 0.21, test_size will always complement train_size unless both are specified.\n",
      "  FutureWarning)\n"
     ]
    }
   ],
   "source": [
    "al_ds = Active_Learner(SVC())\n",
    "al_ds.fit(X,y)"
   ]
  },
  {
   "cell_type": "code",
   "execution_count": 10,
   "metadata": {},
   "outputs": [
    {
     "name": "stdout",
     "output_type": "stream",
     "text": [
      "             precision    recall  f1-score   support\n",
      "\n",
      "        0.0       0.60      0.98      0.75        57\n",
      "        1.0       0.86      0.14      0.24        43\n",
      "\n",
      "avg / total       0.71      0.62      0.53       100\n",
      "\n"
     ]
    }
   ],
   "source": [
    "from sklearn.metrics import classification_report\n",
    "\n",
    "print (classification_report(y,al.predict(X)))"
   ]
  },
  {
   "cell_type": "code",
   "execution_count": 12,
   "metadata": {},
   "outputs": [
    {
     "name": "stdout",
     "output_type": "stream",
     "text": [
      "             precision    recall  f1-score   support\n",
      "\n",
      "        0.0       0.63      0.91      0.74        57\n",
      "        1.0       0.71      0.28      0.40        43\n",
      "\n",
      "avg / total       0.66      0.64      0.60       100\n",
      "\n"
     ]
    }
   ],
   "source": [
    "from sklearn.metrics import classification_report\n",
    "\n",
    "print (classification_report(y,al_ds.predict(X)))"
   ]
  },
  {
   "cell_type": "code",
   "execution_count": null,
   "metadata": {
    "collapsed": true
   },
   "outputs": [],
   "source": []
  }
 ],
 "metadata": {
  "kernelspec": {
   "display_name": "Python [conda env:py36]",
   "language": "python",
   "name": "conda-env-py36-py"
  },
  "language_info": {
   "codemirror_mode": {
    "name": "ipython",
    "version": 3
   },
   "file_extension": ".py",
   "mimetype": "text/x-python",
   "name": "python",
   "nbconvert_exporter": "python",
   "pygments_lexer": "ipython3",
   "version": "3.6.4"
  },
  "toc": {
   "nav_menu": {},
   "number_sections": true,
   "sideBar": true,
   "skip_h1_title": false,
   "title_cell": "Table of Contents",
   "title_sidebar": "Contents",
   "toc_cell": false,
   "toc_position": {},
   "toc_section_display": true,
   "toc_window_display": false
  }
 },
 "nbformat": 4,
 "nbformat_minor": 2
}
