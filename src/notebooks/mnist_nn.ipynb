{
 "cells": [
  {
   "cell_type": "code",
   "execution_count": 10,
   "metadata": {},
   "outputs": [],
   "source": [
    "#Resources:\n",
    "#https://github.com/aymericdamien/TensorFlow-Examples/blob/master/examples/3_NeuralNetworks/multilayer_perceptron.py\n",
    "#https://www.tensorflow.org/versions/r1.2/get_started/mnist/pros\n",
    "\n",
    "import os\n",
    "import sys\n",
    "import numpy as np\n",
    "src_path = os.getcwd().split('/')\n",
    "src_path = '/'.join(src_path[:src_path.index('')+1])\n",
    "sys.path.append(src_path)\n",
    "\n",
    "import tensorflow as tf\n",
    "sess = tf.InteractiveSession()\n",
    "\n",
    "from numpy import genfromtxt\n",
    "my_data = genfromtxt('../data/raw/mnist.csv', delimiter=',', dtype = np.float32)"
   ]
  },
  {
   "cell_type": "code",
   "execution_count": 73,
   "metadata": {
    "collapsed": true
   },
   "outputs": [],
   "source": [
    "import datetime"
   ]
  },
  {
   "cell_type": "code",
   "execution_count": 58,
   "metadata": {
    "collapsed": true
   },
   "outputs": [],
   "source": [
    "def one_hot_encode(y_original):\n",
    "    y_encoded = np.array(np.zeros((y_original.shape[0], 10)))\n",
    "    \n",
    "    i = 0\n",
    "    for num in y_original:\n",
    "        y_encoded[i][int(num)] = 1\n",
    "        i = i + 1\n",
    "        \n",
    "    return y_encoded"
   ]
  },
  {
   "cell_type": "code",
   "execution_count": 67,
   "metadata": {
    "collapsed": true
   },
   "outputs": [],
   "source": [
    "mnist_x = my_data[1:200,1:]\n",
    "mnist_y = my_data[1:200,:1]\n",
    "\n",
    "test_mnist_x = my_data[200:800,1:]\n",
    "test_mnist_y = my_data[200:800,:1]"
   ]
  },
  {
   "cell_type": "code",
   "execution_count": 60,
   "metadata": {
    "collapsed": true
   },
   "outputs": [],
   "source": [
    "# Parameters\n",
    "learning_rate = 0.001\n",
    "training_epochs = 15\n",
    "batch_size = 5\n",
    "display_step = 1"
   ]
  },
  {
   "cell_type": "code",
   "execution_count": 61,
   "metadata": {
    "collapsed": true
   },
   "outputs": [],
   "source": [
    "n_hidden_1 = 256 # 1st layer number of neurons\n",
    "n_hidden_2 = 256 # 2nd layer number of neurons\n",
    "n_input = 784 # MNIST data input (img shape: 28*28)\n",
    "n_classes = 10 # MNIST total classes (0-9 digits)"
   ]
  },
  {
   "cell_type": "code",
   "execution_count": 62,
   "metadata": {
    "collapsed": true
   },
   "outputs": [],
   "source": [
    "x = tf.placeholder(tf.float32, shape=[None, 784])\n",
    "y_ = tf.placeholder(tf.float32, shape=[None, 10]) # Should be 10\n",
    "\n",
    "W = {\n",
    "    'h1': tf.Variable(tf.random_normal([n_input, n_hidden_1])),\n",
    "    'h2': tf.Variable(tf.random_normal([n_hidden_1, n_hidden_2])),\n",
    "    'out': tf.Variable(tf.random_normal([n_hidden_2, n_classes]))\n",
    "}\n",
    "b = {\n",
    "    'b1': tf.Variable(tf.random_normal([n_hidden_1])),\n",
    "    'b2': tf.Variable(tf.random_normal([n_hidden_2])),\n",
    "    'out': tf.Variable(tf.random_normal([n_classes]))\n",
    "}"
   ]
  },
  {
   "cell_type": "code",
   "execution_count": 71,
   "metadata": {
    "collapsed": true
   },
   "outputs": [],
   "source": [
    "def multilayer_perceptron(x, W, b):\n",
    "    # Hidden fully connected layer with 256 neurons\n",
    "    layer_1 = tf.add(tf.matmul(x, W['h1']), b['b1'])\n",
    "    layer_1 = tf.nn.relu(layer_1)\n",
    "    # Hidden fully connected layer with 256 neurons\n",
    "    layer_2 = tf.add(tf.matmul(layer_1, W['h2']), b['b2'])\n",
    "    layer_2 = tf.nn.relu(layer_2)\n",
    "    # Output fully connected layer with a neuron for each class\n",
    "    out_layer = tf.add(tf.matmul(layer_2, W['out']),b['out'])\n",
    "    return out_layer"
   ]
  },
  {
   "cell_type": "code",
   "execution_count": 72,
   "metadata": {},
   "outputs": [],
   "source": [
    "# Construct model\n",
    "y = multilayer_perceptron(x, W, b)\n",
    "\n",
    "loss_op = tf.reduce_mean(tf.nn.softmax_cross_entropy_with_logits(logits=y, labels=y_))\n",
    "optimizer = tf.train.AdamOptimizer(learning_rate=learning_rate)\n",
    "train_op = optimizer.minimize(loss_op)\n",
    "\n",
    "# Initializing the variables\n",
    "init = tf.global_variables_initializer()\n"
   ]
  },
  {
   "cell_type": "code",
   "execution_count": 74,
   "metadata": {},
   "outputs": [
    {
     "name": "stdout",
     "output_type": "stream",
     "text": [
      "2018-05-30 18:00:39.097332\n",
      "2018-05-30 18:00:56.181243\n",
      "test accuracy 0.226131\n"
     ]
    }
   ],
   "source": [
    "import matplotlib.pyplot as plt\n",
    "print(datetime.datetime.now())\n",
    "with tf.Session() as sess:\n",
    "    sess.run(init)\n",
    "\n",
    "    accuracies = []\n",
    "    for i in range(0,len(mnist_x), batch_size):\n",
    "        x_batch = mnist_x[i:i+batch_size]\n",
    "        y_batch = mnist_y[i:i+batch_size]\n",
    "        \n",
    "#         train_accuracy = accuracy.eval(feed_dict={\n",
    "#           x: x_batch, y_: y_batch})\n",
    "#         optimizer.run(feed_dict={x: x_batch, y_: y_batch})\n",
    "        #Maybe change y_batch so that it is (batch_size, 10) size instead of (batch_size, 1)\n",
    "        _, c = sess.run([train_op, loss_op], feed_dict={x: x_batch, y_: one_hot_encode(y_batch)})\n",
    "#         _, c = sess.run([optimizer, loss_op], feed_dict={x: x_batch, y_: one_hot_encode(y_batch)})\n",
    "        accuracy = tf.reduce_mean(tf.cast(correct_prediction, \"float\"))\n",
    "        value = accuracy.eval(feed_dict={x: test_mnist_x, y_: one_hot_encode(test_mnist_y)})\n",
    "        accuracies.append(value)\n",
    "        \n",
    "    # Calculate accuracy\n",
    "    pred = tf.nn.softmax(y)  # Apply softmax to logits\n",
    "    correct_prediction = tf.equal(tf.argmax(y, 1), tf.argmax(y_, 1))\n",
    "    \n",
    "    accuracy = tf.reduce_mean(tf.cast(correct_prediction, \"float\"))\n",
    "    value = accuracy.eval(feed_dict={x: mnist_x, y_: one_hot_encode(mnist_y)})\n",
    "    print(datetime.datetime.now())\n",
    "    print('test accuracy %g' % value)"
   ]
  },
  {
   "cell_type": "code",
   "execution_count": 75,
   "metadata": {},
   "outputs": [
    {
     "data": {
      "text/plain": [
       "[<matplotlib.lines.Line2D at 0x122d54650>]"
      ]
     },
     "execution_count": 75,
     "metadata": {},
     "output_type": "execute_result"
    },
    {
     "data": {
      "image/png": "[encoded data removed]",
      "text/plain": [
       "<matplotlib.figure.Figure at 0x122021f50>"
      ]
     },
     "metadata": {},
     "output_type": "display_data"
    }
   ],
   "source": [
    "plt.plot(accuracies)"
   ]
  },
  {
   "cell_type": "code",
   "execution_count": null,
   "metadata": {
    "collapsed": true
   },
   "outputs": [],
   "source": []
  }
 ],
 "metadata": {
  "kernelspec": {
   "display_name": "Python 2",
   "language": "python",
   "name": "python2"
  },
  "language_info": {
   "codemirror_mode": {
    "name": "ipython",
    "version": 2
   },
   "file_extension": ".py",
   "mimetype": "text/x-python",
   "name": "python",
   "nbconvert_exporter": "python",
   "pygments_lexer": "ipython2",
   "version": "2.7.14"
  }
 },
 "nbformat": 4,
 "nbformat_minor": 2
}
